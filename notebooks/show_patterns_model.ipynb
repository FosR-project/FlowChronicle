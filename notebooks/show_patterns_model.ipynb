{
 "cells": [
  {
   "cell_type": "code",
   "execution_count": 41,
   "metadata": {},
   "outputs": [],
   "source": [
    "import model as m\n",
    "import pickle\n",
    "from dataloader import Dataset\n",
    "import attribute_value as av"
   ]
  },
  {
   "cell_type": "code",
   "execution_count": 2,
   "metadata": {},
   "outputs": [],
   "source": [
    "model = m.Model.load_model('output/temp-fixip-debug_sep_flags.model')"
   ]
  },
  {
   "cell_type": "code",
   "execution_count": 3,
   "metadata": {},
   "outputs": [
    {
     "data": {
      "text/plain": [
       "<model.Model at 0x109cae1d0>"
      ]
     },
     "execution_count": 3,
     "metadata": {},
     "output_type": "execute_result"
    }
   ],
   "source": [
    "model"
   ]
  },
  {
   "cell_type": "code",
   "execution_count": 27,
   "metadata": {},
   "outputs": [
    {
     "name": "stdout",
     "output_type": "stream",
     "text": [
      "[(0, AttributeType.FIX:1), (1, AttributeType.FIX:21), (2, AttributeType.FIX:122), (3, AttributeType.FIX:1), (4, AttributeType.FIX:29), (5, AttributeType.FIX:0), (6, AttributeType.FIX:32), (7, AttributeType.FIX:0), (8, AttributeType.FIX:0), (9, AttributeType.FIX:1), (10, AttributeType.FIX:1), (11, AttributeType.FIX:0), (12, AttributeType.FIX:0), (13, AttributeType.FIX:1), (14, AttributeType.FIX:0), (15, AttributeType.FIX:0), (16, AttributeType.FIX:0)]\n"
     ]
    }
   ],
   "source": [
    "for r in model.pattern_set[0].pattern:\n",
    "    print(r)"
   ]
  },
  {
   "cell_type": "code",
   "execution_count": 16,
   "metadata": {},
   "outputs": [],
   "source": [
    "dic = pickle.load(open('output/temp-fixip-debug_sep_flags.dic', 'rb'))"
   ]
  },
  {
   "cell_type": "code",
   "execution_count": 17,
   "metadata": {},
   "outputs": [
    {
     "data": {
      "text/plain": [
       "{'In Byte': bidict({1: Interval(53.999, 76.0, closed='right'), 2: Interval(76.0, 91.0, closed='right'), 3: Interval(91.0, 92.0, closed='right'), 4: Interval(92.0, 104.0, closed='right'), 5: Interval(104.0, 116.0, closed='right'), 6: Interval(116.0, 122.0, closed='right'), 7: Interval(122.0, 126.0, closed='right'), 8: Interval(126.0, 132.0, closed='right'), 9: Interval(132.0, 136.0, closed='right'), 10: Interval(136.0, 151.25, closed='right'), 11: Interval(151.25, 172.0, closed='right'), 12: Interval(172.0, 189.0, closed='right'), 13: Interval(189.0, 202.925, closed='right'), 14: Interval(202.925, 221.0, closed='right'), 15: Interval(221.0, 239.0, closed='right'), 16: Interval(239.0, 255.0, closed='right'), 17: Interval(255.0, 272.0, closed='right'), 18: Interval(272.0, 295.0, closed='right'), 19: Interval(295.0, 317.0, closed='right'), 20: Interval(317.0, 360.5, closed='right'), 21: Interval(360.5, 388.0, closed='right'), 22: Interval(388.0, 424.95, closed='right'), 23: Interval(424.95, 495.175, closed='right'), 24: Interval(495.175, 538.0, closed='right'), 25: Interval(538.0, 569.0, closed='right'), 26: Interval(569.0, 653.85, closed='right'), 27: Interval(653.85, 762.0, closed='right'), 28: Interval(762.0, 920.3, closed='right'), 29: Interval(920.3, 1238.575, closed='right'), 30: Interval(1238.575, 1632.75, closed='right'), 31: Interval(1632.75, 2190.9, closed='right'), 32: Interval(2190.9, 2906.8, closed='right'), 33: Interval(2906.8, 3895.55, closed='right'), 34: Interval(3895.55, 4805.85, closed='right'), 35: Interval(4805.85, 5954.875, closed='right'), 36: Interval(5954.875, 7335.1, closed='right'), 37: Interval(7335.1, 11346.625, closed='right'), 38: Interval(11346.625, 49718.45, closed='right'), 39: Interval(49718.45, 522226405.3, closed='right'), 40: Interval(522226405.3, 2040241914.0, closed='right'), 0: 0}),\n",
       " 'Out Byte': bidict({1: Interval(53.999, 62.65, closed='right'), 2: Interval(62.65, 73.0, closed='right'), 3: Interval(73.0, 74.0, closed='right'), 4: Interval(74.0, 75.0, closed='right'), 5: Interval(75.0, 76.0, closed='right'), 6: Interval(76.0, 81.0, closed='right'), 7: Interval(81.0, 89.0, closed='right'), 8: Interval(89.0, 91.0, closed='right'), 9: Interval(91.0, 92.0, closed='right'), 10: Interval(92.0, 116.0, closed='right'), 11: Interval(116.0, 144.0, closed='right'), 12: Interval(144.0, 147.0, closed='right'), 13: Interval(147.0, 149.0, closed='right'), 14: Interval(149.0, 153.0, closed='right'), 15: Interval(153.0, 156.0, closed='right'), 16: Interval(156.0, 162.0, closed='right'), 17: Interval(162.0, 169.0, closed='right'), 18: Interval(169.0, 176.0, closed='right'), 19: Interval(176.0, 196.0, closed='right'), 20: Interval(196.0, 214.0, closed='right'), 21: Interval(214.0, 239.0, closed='right'), 22: Interval(239.0, 262.0, closed='right'), 23: Interval(262.0, 267.0, closed='right'), 24: Interval(267.0, 270.0, closed='right'), 25: Interval(270.0, 380.75, closed='right'), 26: Interval(380.75, 616.0, closed='right'), 27: Interval(616.0, 790.0, closed='right'), 28: Interval(790.0, 921.0, closed='right'), 29: Interval(921.0, 1037.85, closed='right'), 30: Interval(1037.85, 1111.5, closed='right'), 31: Interval(1111.5, 1162.0, closed='right'), 32: Interval(1162.0, 1428.0, closed='right'), 33: Interval(1428.0, 1778.4, closed='right'), 34: Interval(1778.4, 1942.1, closed='right'), 35: Interval(1942.1, 2270.75, closed='right'), 36: Interval(2270.75, 2790.4, closed='right'), 37: Interval(2790.4, 3628.65, closed='right'), 38: Interval(3628.65, 6222.7, closed='right'), 39: Interval(6222.7, 403071542.6, closed='right'), 40: Interval(403071542.6, 2995699562.0, closed='right'), 0: 0}),\n",
       " 'In Packet': bidict({1: Interval(0.999, 2.0, closed='right'), 2: Interval(2.0, 3.0, closed='right'), 3: Interval(3.0, 4.0, closed='right'), 4: Interval(4.0, 5.0, closed='right'), 5: Interval(5.0, 6.0, closed='right'), 6: Interval(6.0, 7.0, closed='right'), 7: Interval(7.0, 8.0, closed='right'), 8: Interval(8.0, 10.0, closed='right'), 9: Interval(10.0, 12.0, closed='right'), 10: Interval(12.0, 13.0, closed='right'), 11: Interval(13.0, 17.0, closed='right'), 12: Interval(17.0, 21.0, closed='right'), 13: Interval(21.0, 31.0, closed='right'), 14: Interval(31.0, 383520.85, closed='right'), 15: Interval(383520.85, 1549175.0, closed='right'), 0: 0}),\n",
       " 'Out Packet': bidict({1: Interval(0.999, 2.0, closed='right'), 2: Interval(2.0, 3.0, closed='right'), 3: Interval(3.0, 4.0, closed='right'), 4: Interval(4.0, 5.0, closed='right'), 5: Interval(5.0, 6.0, closed='right'), 6: Interval(6.0, 7.0, closed='right'), 7: Interval(7.0, 9.0, closed='right'), 8: Interval(9.0, 11.0, closed='right'), 9: Interval(11.0, 13.0, closed='right'), 10: Interval(13.0, 18.0, closed='right'), 11: Interval(18.0, 22.0, closed='right'), 12: Interval(22.0, 34.0, closed='right'), 13: Interval(34.0, 310516.6, closed='right'), 14: Interval(310516.6, 1326888.0, closed='right'), 0: 0}),\n",
       " 'Duration': bidict({1: Interval(0.999, 2.0, closed='right'), 2: Interval(2.0, 3.0, closed='right'), 3: Interval(3.0, 4.0, closed='right'), 4: Interval(4.0, 5.0, closed='right'), 5: Interval(5.0, 6.0, closed='right'), 6: Interval(6.0, 7.0, closed='right'), 7: Interval(7.0, 9.0, closed='right'), 8: Interval(9.0, 11.0, closed='right'), 9: Interval(11.0, 12.0, closed='right'), 10: Interval(12.0, 15.0, closed='right'), 11: Interval(15.0, 19.0, closed='right'), 12: Interval(19.0, 25.0, closed='right'), 13: Interval(25.0, 33.0, closed='right'), 14: Interval(33.0, 46.65, closed='right'), 15: Interval(46.65, 58.0, closed='right'), 16: Interval(58.0, 63.0, closed='right'), 17: Interval(63.0, 65.0, closed='right'), 18: Interval(65.0, 79.45, closed='right'), 19: Interval(79.45, 106.4, closed='right'), 20: Interval(106.4, 113.0, closed='right'), 21: Interval(113.0, 123.3, closed='right'), 22: Interval(123.3, 159.0, closed='right'), 23: Interval(159.0, 51593.4, closed='right'), 24: Interval(51593.4, 180064.95, closed='right'), 25: Interval(180064.95, 287424.0, closed='right'), 26: Interval(287424.0, 408798.65, closed='right'), 27: Interval(408798.65, 515433.0, closed='right'), 0: 0})}"
      ]
     },
     "execution_count": 17,
     "metadata": {},
     "output_type": "execute_result"
    }
   ],
   "source": [
    "dic"
   ]
  },
  {
   "cell_type": "code",
   "execution_count": 23,
   "metadata": {},
   "outputs": [
    {
     "data": {
      "text/plain": [
       "bidict({0: 'Proto', 1: 'Src IP Addr', 2: 'Dst IP Addr', 3: 'Dst Pt', 4: 'In Byte', 5: 'In Packet', 6: 'Out Byte', 7: 'Out Packet', 8: 'Duration', 9: 'FIN', 10: 'SYN', 11: 'RST', 12: 'PSH', 13: 'ACK', 14: 'URG', 15: 'ECE', 16: 'CWR'})"
      ]
     },
     "execution_count": 23,
     "metadata": {},
     "output_type": "execute_result"
    }
   ],
   "source": [
    "dataset = Dataset.load_model('output/temp-fixip-debug_sep_flags.dataset')\n",
    "dataset.col_name_map"
   ]
  },
  {
   "cell_type": "code",
   "execution_count": 24,
   "metadata": {},
   "outputs": [
    {
     "data": {
      "text/plain": [
       "{'Proto': bidict({0: 'UDP', 1: 'TCP'}),\n",
       " 'Src IP Addr': bidict({0: '192.168.220.15', 1: '192.168.220.4', 2: '192.168.220.8', 3: '192.168.220.5', 4: '192.168.200.4', 5: '192.168.220.7', 6: '192.168.200.9', 7: '192.168.200.8', 8: '192.168.220.10', 9: '192.168.100.3', 10: '192.168.220.11', 11: '192.168.220.6', 12: '192.168.100.4', 13: '192.168.220.13', 14: '192.168.100.5', 15: '192.168.220.9', 16: '192.168.220.14', 17: '192.168.220.16', 18: '192.168.220.12', 19: '192.168.200.5', 20: '192.168.100.6', 21: '192.168.210.5', 22: '192.168.210.4', 23: '192.168.210.3', 24: '192.168.220.3', 25: '192.168.200.3', 26: 'AttributeType.USE_PLACEHOLDER:0', 27: '10162_65', 28: '10587_162', 29: '10068_2', 30: '12808_156', 31: '0.0.0.0', 32: '11380_250', 33: '10581_173', 34: '10068_98', 35: '10028_204', 36: '14193_107', 37: '16377_215', 38: '10587_194', 39: '192.168.100.255'}),\n",
       " 'Dst IP Addr': bidict({0: 'DNS', 1: '10793_130', 2: '10007_207', 3: '192.168.100.3', 4: '192.168.200.8', 5: '10423_140', 6: '10319_216', 7: '10058_155', 8: '10028_204', 9: '10239_30', 10: '10433_105', 11: '10199_3', 12: '192.168.200.255', 13: '10006_132', 14: '10022_204', 15: '10193_46', 16: '14645_180', 17: '13526_81', 18: '16378_90', 19: '10581_188', 20: '10171_236', 21: '10126_183', 22: '10008_22', 23: '11331_140', 24: '10011_183', 25: '10242_81', 26: '14193_88', 27: '10138_16', 28: '10263_186', 29: '10658_11', 30: '10296_226', 31: 'EXT_SERVER', 32: '10540_2', 33: '11744_169', 34: '10586_46', 35: '10389_108', 36: '10174_55', 37: '10031_250', 38: '192.168.220.16', 39: '192.168.200.4', 40: '12612_32', 41: '14193_99', 42: '16376_229', 43: '10048_62', 44: '192.168.220.10', 45: '192.168.200.5', 46: '10124_1', 47: '10199_14', 48: '15037_50', 49: '10637_200', 50: '10199_1', 51: '192.168.220.255', 52: '192.168.210.255', 53: '11419_72', 54: '12807_233', 55: '15923_187', 56: '11046_113', 57: '16380_229', 58: '192.168.220.4', 59: '192.168.100.4', 60: '14180_133', 61: '11744_137', 62: '10604_33', 63: '10444_137', 64: '10199_4', 65: '10199_2', 66: '10603_25', 67: '192.168.100.5', 68: '192.168.220.5', 69: '192.168.220.6', 70: '10921_131', 71: '10784_4', 72: '13480_49', 73: '10954_186', 74: '192.168.220.15', 75: '192.168.220.8', 76: '10786_4', 77: '192.168.220.12', 78: '10595_64', 79: '11027_34', 80: '10016_50', 81: '10590_89', 82: '10497_233', 83: '10184_177', 84: '10605_14', 85: '10665_85', 86: '10057_113', 87: '13065_178', 88: '11300_156', 89: '10042_188', 90: '10449_5', 91: '192.168.210.2', 92: '10294_70', 93: '10578_200', 94: '15232_129', 95: '14818_168', 96: '12462_82', 97: '10118_111', 98: '10588_24', 99: '10118_55', 100: '10499_66', 101: '12118_184', 102: '16385_14', 103: '13333_143', 104: '10587_194', 105: '10278_66', 106: '16378_34', 107: '10162_65', 108: '10305_148', 109: '10415_65', 110: '10001_41', 111: '10106_93', 112: '10060_27', 113: '10008_251', 114: '10582_68', 115: '10163_16', 116: '11014_185', 117: '10606_235', 118: '10608_97', 119: '10062_127', 120: '10702_91', 121: '16378_44', 122: '10581_173', 123: '10035_234', 124: '255.255.255.255', 125: '192.168.220.14', 126: '15563_154', 127: '11744_163', 128: '10436_138', 129: '10199_6', 130: '16382_114', 131: '14262_2', 132: '16377_216', 133: '12843_2', 134: '10023_15', 135: '16375_60', 136: '10256_224', 137: '11657_77', 138: '10274_50', 139: '10331_64', 140: '13940_136', 141: '10793_162', 142: '11744_154', 143: '15799_153', 144: '10363_11', 145: '10206_7', 146: '12613_89', 147: '10003_193', 148: '15242_80', 149: '10296_232', 150: '10063_134', 151: '10026_204', 152: '15395_239', 153: '192.168.100.255', 154: '10019_14', 155: '11380_250', 156: '10027_204', 157: '192.168.220.7', 158: '16378_222', 159: '10110_13', 160: '10163_60', 161: '11276_12', 162: '10369_9', 163: '10025_202', 164: '192.168.210.4', 165: '192.168.200.9', 166: '192.168.200.2', 167: '192.168.100.6', 168: '10018_62', 169: '192.168.220.3', 170: '16383_225', 171: '192.168.200.3', 172: '192.168.220.2', 173: '12612_250', 174: '10796_85', 175: 'AttributeType.USE_PLACEHOLDER:0', 176: '11744_171', 177: '10068_2', 178: '16378_98', 179: '11707_93', 180: '11851_34', 181: '10199_8', 182: '13451_17', 183: '10600_97', 184: '10295_67', 185: '12187_185', 186: '10596_26', 187: '16378_36', 188: '10078_100', 189: '10010_35', 190: '10595_82', 191: '10447_157', 192: '192.168.220.13', 193: '10598_125', 194: '13365_222', 195: '16378_28', 196: '13699_120', 197: '10050_114', 198: '11744_27', 199: '12741_123', 200: '10098_126', 201: '10290_155', 202: '10870_140', 203: '10078_73', 204: '12808_156', 205: '16381_246', 206: '10193_2', 207: '10970_157', 208: '10575_79', 209: '10033_121', 210: '10122_64', 211: '10057_29', 212: '10279_223', 213: '10381_200', 214: '10057_30', 215: '14193_107', 216: '10106_98', 217: '16378_103', 218: '13940_88', 219: '10014_174', 220: '13441_36', 221: '12335_11', 222: '16378_39', 223: '13143_100', 224: '10068_98', 225: '12485_66', 226: '16379_132', 227: '10199_19', 228: '10135_60', 229: '12738_171', 230: '10176_100', 231: '10530_174', 232: '10602_253', 233: '10244_15', 234: '11380_202', 235: '10429_162', 236: '16378_26', 237: '10001_232', 238: '12843_49', 239: '10587_162', 240: '10043_254', 241: '16378_200', 242: '192.168.220.11', 243: '10499_78', 244: '10248_232', 245: '10586_44', 246: '10021_4', 247: '14262_16', 248: '10367_98', 249: '10377_192', 250: '10235_215', 251: '10252_23', 252: '11062_193', 253: '10220_206', 254: '16378_194', 255: '10595_96', 256: '10200_244', 257: '10125_12', 258: '10176_156', 259: '10963_46', 260: '10075_226', 261: '16378_238', 262: '10240_193', 263: '16377_215', 264: '10983_96', 265: '10926_27', 266: '192.168.100.2', 267: '10456_29', 268: '16378_160', 269: '192.168.220.9', 270: '10954_31', 271: '10129_10', 272: '10107_27', 273: '10325_11', 274: '10603_44', 275: '10660_133', 276: '10008_253', 277: '10151_143', 278: '14262_21', 279: '16378_166', 280: '10168_188', 281: '13181_110', 282: '10100_133', 283: '10026_230', 284: '13441_6', 285: '10582_86', 286: '10591_235', 287: '10250_236', 288: '11875_193', 289: '10585_221', 290: '16378_116', 291: '11142_116', 292: '14207_200', 293: '10077_156', 294: '10185_51', 295: '10788_89', 296: '10064_169', 297: '10022_175', 298: '10013_97', 299: '10642_43', 300: '10589_173', 301: '11656_48', 302: '15820_13', 303: '10625_58', 304: '10026_67', 305: '10754_14', 306: '10121_100', 307: '16378_196', 308: '16378_249', 309: '10283_80', 310: '10595_98', 311: '11744_194', 312: '10064_217', 313: '11318_105', 314: '10586_66', 315: '11193_139', 316: '16378_47', 317: '10097_248', 318: '10597_157', 319: '10607_84', 320: '10183_96', 321: '10465_139', 322: '11744_147', 323: '192.168.210.5', 324: '11042_240', 325: '10296_238', 326: '10586_60', 327: '10586_38', 328: '14223_149', 329: '10098_125', 330: '10102_83', 331: '10132_239', 332: '10319_235', 333: '11744_25', 334: '10102_54', 335: '14453_50', 336: '10078_74', 337: '12438_202', 338: '10585_220', 339: '12039_67', 340: '10057_187', 341: '10540_49', 342: '10243_76', 343: '10180_116', 344: '16077_222', 345: '10143_80', 346: '10248_138', 347: '10899_40', 348: '10108_7', 349: '10310_200', 350: 'AttributeType.USE_PLACEHOLDER:3', 351: '10586_42', 352: '10110_11', 353: '11065_164', 354: '15590_27', 355: '10559_163', 356: '16389_27', 357: '10176_101', 358: '10194_82', 359: '16378_163', 360: '13226_196', 361: '10329_28', 362: '13483_132', 363: '10081_164', 364: '10509_155', 365: '0.0.0.0', 366: '14145_167', 367: '13645_243', 368: '10532_180', 369: '10581_179', 370: '11655_144', 371: '10370_34', 372: '10297_79', 373: '10276_216', 374: '10151_220', 375: '14077_76', 376: '10073_64', 377: '11270_108', 378: '13940_99', 379: '11744_179', 380: '10078_67', 381: '10085_31', 382: '10150_40', 383: '12066_216', 384: '10581_189', 385: '10609_250', 386: '16362_140', 387: '13717_91', 388: '10627_3', 389: '11176_239', 390: '16384_246', 391: '10305_149', 392: '12402_10', 393: '11291_42', 394: '10437_61', 395: '10734_193', 396: '12189_190', 397: '10553_88', 398: '10270_21', 399: '10712_206', 400: '10581_187', 401: '10571_3', 402: '12156_144', 403: '10307_56', 404: '11473_70', 405: '15611_110', 406: '10181_60', 407: '10310_169', 408: '11612_191', 409: '10270_15', 410: '10586_19', 411: '10926_31', 412: '12655_14', 413: '10581_183', 414: '14369_223', 415: '10163_2', 416: '10532_172', 417: '16384_224', 418: '16387_15', 419: '14373_87', 420: '10118_56', 421: '11331_108', 422: '10776_200', 423: '12418_123', 424: '10087_41', 425: 'AttributeType.USE_PLACEHOLDER:1', 426: '16378_91', 427: '10616_102', 428: '10222_199', 429: '11744_153', 430: '10729_2', 431: '10946_2', 432: '10252_2', 433: '10436_140', 434: 'AttributeType.USE_PLACEHOLDER:7', 435: '10199_10', 436: '10584_204', 437: '13692_207', 438: '10171_252', 439: '10495_140', 440: '10998_36', 441: '13325_120', 442: '10298_198', 443: '11847_190', 444: '16378_247', 445: '11337_140'}),\n",
       " 'Dst Pt': bidict({0: 53.0, 1: 443.0, 2: 445.0, 3: 80.0, 4: 137.0, 5: 8000.0, 6: 8082.0, 7: 138.0, 8: 1900.0, 9: 3544.0, 10: 5353.0, 11: 67.0, 12: 8080.0, 13: 139.0, 14: 25.0}),\n",
       " 'In Byte': bidict({0: 32, 1: 30, 2: 7, 3: 21, 4: 20, 5: 15, 6: 38, 7: 8, 8: 31, 9: 35, 10: 19, 11: 10, 12: 34, 13: 22, 14: 12, 15: 9, 16: 37, 17: 26, 18: 14, 19: 11, 20: 40, 21: 0, 22: 27, 23: 29, 24: 18, 25: 17, 26: 4, 27: 39, 28: 28, 29: 5, 30: 24, 31: 16, 32: 13, 33: 2, 34: 23, 35: 33, 36: 6, 37: 36, 38: 1, 39: 3, 40: 25}),\n",
       " 'In Packet': bidict({0: 1, 1: 9, 2: 15, 3: 5, 4: 8, 5: 3, 6: 14, 7: 11, 8: 0, 9: 6, 10: 7, 11: 10, 12: 4, 13: 2, 14: 12, 15: 13}),\n",
       " 'Out Byte': bidict({0: 39, 1: 13, 2: 37, 3: 1, 4: 2, 5: 7, 6: 35, 7: 15, 8: 36, 9: 0, 10: 8, 11: 17, 12: 11, 13: 40, 14: 21, 15: 19, 16: 29, 17: 27, 18: 33, 19: 24, 20: 32, 21: 34, 22: 25, 23: 28, 24: 23, 25: 6, 26: 14, 27: 12, 28: 3, 29: 31, 30: 26, 31: 30, 32: 20, 33: 38, 34: 9, 35: 10, 36: 16, 37: 22, 38: 18, 39: 4, 40: 5}),\n",
       " 'Out Packet': bidict({0: 1, 1: 8, 2: 13, 3: 14, 4: 0, 5: 2, 6: 4, 7: 9, 8: 10, 9: 5, 10: 7, 11: 6, 12: 12, 13: 3, 14: 11}),\n",
       " 'Duration': bidict({0: 0, 1: 3, 2: 5, 3: 21, 4: 20, 5: 26, 6: 25, 7: 6, 8: 23, 9: 10, 10: 15, 11: 4, 12: 12, 13: 7, 14: 16, 15: 18, 16: 11, 17: 13, 18: 14, 19: 1, 20: 27, 21: 19, 22: 2, 23: 22, 24: 8, 25: 17, 26: 24, 27: 9}),\n",
       " 'FIN': bidict({0: False, 1: True}),\n",
       " 'SYN': bidict({0: False, 1: True}),\n",
       " 'RST': bidict({0: False, 1: True}),\n",
       " 'PSH': bidict({0: False, 1: True}),\n",
       " 'ACK': bidict({0: False, 1: True}),\n",
       " 'URG': bidict({0: False}),\n",
       " 'ECE': bidict({0: False}),\n",
       " 'CWR': bidict({0: False})}"
      ]
     },
     "execution_count": 24,
     "metadata": {},
     "output_type": "execute_result"
    }
   ],
   "source": [
    "dataset.column_value_dict"
   ]
  },
  {
   "cell_type": "code",
   "execution_count": 46,
   "metadata": {},
   "outputs": [],
   "source": [
    "def translate_pattern(pattern, dic, col_value_dict, col_name_map):\n",
    "    t_pattern = []\n",
    "    for r in pattern.pattern:\n",
    "        t_r = {}\n",
    "        for k,v in r.pattern.items():\n",
    "            new_k = col_name_map[k]\n",
    "            if v.attr_type == av.AttributeType.FIX:\n",
    "                if new_k in dic.keys():\n",
    "                    new_v = dic[new_k][v.value]\n",
    "                else:\n",
    "                    new_v = col_value_dict[new_k][v.value]\n",
    "                t_r[new_k] = new_v\n",
    "            else:\n",
    "                t_r[new_k] = v\n",
    "        t_pattern.append(t_r)\n",
    "    return t_pattern"
   ]
  },
  {
   "cell_type": "code",
   "execution_count": 47,
   "metadata": {},
   "outputs": [
    {
     "name": "stdout",
     "output_type": "stream",
     "text": [
      "[{'Dst Pt': 443.0, 'ACK': True, 'Proto': 'TCP', 'Src IP Addr': '192.168.210.5', 'Dst IP Addr': '10581_173', 'In Byte': Interval(920.3, 1238.575, closed='right'), 'In Packet': 0, 'Out Byte': Interval(1162.0, 1428.0, closed='right'), 'Out Packet': 0, 'Duration': 0, 'FIN': True, 'SYN': True, 'RST': False, 'PSH': False, 'URG': False, 'ECE': False, 'CWR': False}]\n",
      "[{'Dst Pt': 80.0, 'RST': False, 'URG': False, 'ECE': False, 'CWR': False, 'ACK': True, 'Proto': 'TCP', 'FIN': True, 'SYN': False}]\n",
      "[{'Duration': 0, 'PSH': True, 'ACK': True, 'URG': False, 'ECE': False, 'CWR': False, 'SYN': True, 'RST': False, 'Proto': 'TCP', 'Dst Pt': 80.0, 'FIN': False}]\n",
      "[{'Dst Pt': 443.0, 'URG': False, 'ECE': False, 'CWR': False, 'Proto': 'TCP', 'ACK': True, 'PSH': True, 'SYN': True, 'RST': False, 'FIN': True, 'Src IP Addr': AttributeType.SET_PLACEHOLDER:0, 'Dst IP Addr': AttributeType.SET_PLACEHOLDER:2}, {'Src IP Addr': AttributeType.USE_PLACEHOLDER:0, 'URG': False, 'ECE': False, 'CWR': False, 'RST': False, 'PSH': False, 'In Packet': 0, 'Out Packet': 0, 'Dst IP Addr': AttributeType.SET_PLACEHOLDER:4, 'Proto': 'UDP', 'Dst Pt': 53.0, 'FIN': False, 'SYN': False, 'ACK': False}, {'Dst IP Addr': AttributeType.USE_PLACEHOLDER:2, 'URG': False, 'ECE': False, 'CWR': False, 'Duration': 0, 'In Packet': 0, 'RST': False, 'Proto': 'UDP', 'Dst Pt': 53.0, 'Out Packet': 0, 'FIN': False, 'SYN': False, 'PSH': False, 'ACK': False}, {'Dst IP Addr': AttributeType.USE_PLACEHOLDER:4, 'RST': False, 'URG': False, 'ECE': False, 'CWR': False, 'Proto': 'UDP', 'FIN': False, 'SYN': False, 'PSH': False, 'ACK': False, 'Src IP Addr': AttributeType.SET_PLACEHOLDER:7}, {'Src IP Addr': AttributeType.USE_PLACEHOLDER:7, 'URG': False, 'ECE': False, 'CWR': False}]\n"
     ]
    }
   ],
   "source": [
    "for p in model.pattern_set:\n",
    "    print(translate_pattern(p, dic, dataset.column_value_dict, dataset.col_name_map))"
   ]
  },
  {
   "cell_type": "code",
   "execution_count": null,
   "metadata": {},
   "outputs": [],
   "source": []
  }
 ],
 "metadata": {
  "kernelspec": {
   "display_name": "venv",
   "language": "python",
   "name": "python3"
  },
  "language_info": {
   "codemirror_mode": {
    "name": "ipython",
    "version": 3
   },
   "file_extension": ".py",
   "mimetype": "text/x-python",
   "name": "python",
   "nbconvert_exporter": "python",
   "pygments_lexer": "ipython3",
   "version": "3.10.8"
  }
 },
 "nbformat": 4,
 "nbformat_minor": 2
}
