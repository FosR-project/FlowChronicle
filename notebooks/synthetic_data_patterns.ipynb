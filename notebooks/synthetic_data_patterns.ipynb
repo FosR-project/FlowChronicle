{
 "cells": [
  {
   "cell_type": "code",
   "execution_count": 1,
   "metadata": {},
   "outputs": [],
   "source": [
    "%load_ext autoreload\n",
    "%autoreload 2"
   ]
  },
  {
   "cell_type": "code",
   "execution_count": 2,
   "metadata": {},
   "outputs": [],
   "source": [
    "import numpy as np\n",
    "import pandas as pd\n",
    "import seaborn as sns"
   ]
  },
  {
   "cell_type": "code",
   "execution_count": 3,
   "metadata": {},
   "outputs": [],
   "source": [
    "import search\n",
    "from dataset import SyntheticDataset, Dataset\n",
    "from synthetic_data import generate_data, plant_patterns, pattern_to_patterns_objects, reshape_data, plant_high_frequency_columns\n",
    "from model import Model\n",
    "import random"
   ]
  },
  {
   "cell_type": "code",
   "execution_count": 4,
   "metadata": {},
   "outputs": [],
   "source": [
    "RANDOM_SEED = 42\n",
    "random.seed(RANDOM_SEED)\n",
    "np.random.seed(RANDOM_SEED)\n",
    "\n",
    "N_ROWS = 100\n",
    "N_COLUMNS = 10\n",
    "POSSION_PARAMETERS = 2,3 # lambda, shift\n",
    "df = generate_data(N_ROWS, N_COLUMNS, POSSION_PARAMETERS)\n",
    "df = plant_high_frequency_columns(df, columns=[1,2], unique_values=[30,20])\n",
    "df,patterns = plant_patterns(df, unique_patterns=1, pattern_symbols=10, n_rows=2, total_patterns=10, placeholder_pair=(1,1))\n",
    "df,patterns = reshape_data(df,patterns)\n",
    "\n",
    "dataset = SyntheticDataset(df.copy())\n"
   ]
  },
  {
   "cell_type": "code",
   "execution_count": 5,
   "metadata": {},
   "outputs": [],
   "source": [
    "# sns.pairplot(df_random)"
   ]
  },
  {
   "cell_type": "code",
   "execution_count": 6,
   "metadata": {},
   "outputs": [],
   "source": [
    "# sns.pairplot(df_patterns)"
   ]
  },
  {
   "cell_type": "code",
   "execution_count": 7,
   "metadata": {},
   "outputs": [
    {
     "name": "stderr",
     "output_type": "stream",
     "text": [
      "/Users/joscha/Documents/prj/FlowChronicle/cover.py:54: UserWarning: Using np.all to find next window - probably inefficient\n",
      "  warnings.warn(\"Using np.all to find next window - probably inefficient\")\n",
      "/Users/joscha/Documents/prj/FlowChronicle/cover.py:55: UserWarning: Window.score: Using simple number of fields covered as score\n",
      "  warnings.warn(\"Window.score: Using simple number of fields covered as score\")\n",
      "DEBUG:root:Starting window search\n",
      "DEBUG:root:Starting covering\n",
      "DEBUG:root:Finished covering\n",
      "WARNING:pgmpy:Replacing existing CPD for 0-r0\n",
      "WARNING:pgmpy:Replacing existing CPD for 1-r0\n",
      "WARNING:pgmpy:Replacing existing CPD for 2-r0\n",
      "WARNING:pgmpy:Replacing existing CPD for 3-r0\n",
      "WARNING:pgmpy:Replacing existing CPD for 4-r0\n",
      "WARNING:pgmpy:Replacing existing CPD for 5-r0\n",
      "WARNING:pgmpy:Replacing existing CPD for 6-r0\n",
      "WARNING:pgmpy:Replacing existing CPD for 7-r0\n",
      "WARNING:pgmpy:Replacing existing CPD for 8-r0\n",
      "WARNING:pgmpy:Replacing existing CPD for 9-r0\n"
     ]
    },
    {
     "name": "stdout",
     "output_type": "stream",
     "text": [
      "Pattern Set:  1.5185673663648482\n",
      "45.89751738655722 + 14389.170714989014 = 14435.06823237557\n"
     ]
    }
   ],
   "source": [
    "m_null = Model(dataset_patterns)\n",
    "length_model= m_null.get_model_length()\n",
    "length_data = m_null.cover.compute_data_length()\n",
    "print(length_model, '+',  length_data, '=',length_model+length_data)"
   ]
  },
  {
   "cell_type": "code",
   "execution_count": 5,
   "metadata": {},
   "outputs": [
    {
     "name": "stdout",
     "output_type": "stream",
     "text": [
      "\n",
      "\n",
      " True model\n"
     ]
    },
    {
     "name": "stderr",
     "output_type": "stream",
     "text": [
      "/Users/joscha/Documents/prj/FlowChronicle/cover.py:54: UserWarning: Using np.all to find next window - probably inefficient\n",
      "  warnings.warn(\"Using np.all to find next window - probably inefficient\")\n",
      "/Users/joscha/Documents/prj/FlowChronicle/cover.py:55: UserWarning: Window.score: Using simple number of fields covered as score\n",
      "  warnings.warn(\"Window.score: Using simple number of fields covered as score\")\n",
      "DEBUG:root:Starting window search\n",
      "DEBUG:root:Starting covering\n",
      "DEBUG:root:Finished covering\n",
      "DEBUG:root:Starting window search\n",
      "DEBUG:root:Starting covering\n",
      "DEBUG:root:Finished covering\n",
      "WARNING:pgmpy:Replacing existing CPD for 4-r0\n",
      "WARNING:pgmpy:Replacing existing CPD for 5-r0\n",
      "WARNING:pgmpy:Replacing existing CPD for 9-r0\n",
      "WARNING:pgmpy:Replacing existing CPD for 1-r1\n",
      "WARNING:pgmpy:Replacing existing CPD for 2-r1\n",
      "WARNING:pgmpy:Replacing existing CPD for 4-r1\n",
      "WARNING:pgmpy:Replacing existing CPD for 5-r1\n",
      "WARNING:pgmpy:Replacing existing CPD for 6-r1\n",
      "WARNING:pgmpy:Replacing existing CPD for 7-r1\n",
      "WARNING:pgmpy:Replacing existing CPD for 9-r1\n",
      "WARNING:pgmpy:Replacing existing CPD for 0-r0\n",
      "WARNING:pgmpy:Replacing existing CPD for 1-r0\n",
      "WARNING:pgmpy:Replacing existing CPD for 2-r0\n",
      "WARNING:pgmpy:Replacing existing CPD for 3-r0\n",
      "WARNING:pgmpy:Replacing existing CPD for 4-r0\n",
      "WARNING:pgmpy:Replacing existing CPD for 5-r0\n",
      "WARNING:pgmpy:Replacing existing CPD for 6-r0\n",
      "WARNING:pgmpy:Replacing existing CPD for 7-r0\n",
      "WARNING:pgmpy:Replacing existing CPD for 8-r0\n",
      "WARNING:pgmpy:Replacing existing CPD for 9-r0\n"
     ]
    },
    {
     "name": "stdout",
     "output_type": "stream",
     "text": [
      "Pattern Set:  2.5185673663648482\n",
      "71.0274599966201 ['[(0, AttributeType.SET_PLACEHOLDER:1), (1, AttributeType.FIX:2), (2, AttributeType.FIX:2), (3, AttributeType.FIX:2), (6, AttributeType.FIX:0), (7, AttributeType.FIX:2), (8, AttributeType.FIX:1)]', '[(0, AttributeType.SET_PLACEHOLDER:1), (3, AttributeType.FIX:1), (8, AttributeType.FIX:2)]']\n",
      "89.3956523701965 + 3106.054364428434 = 3195.4500167986303\n",
      "['[(0, AttributeType.SET_PLACEHOLDER:1), (1, AttributeType.FIX:2), (2, AttributeType.FIX:2), (3, AttributeType.FIX:2), (6, AttributeType.FIX:0), (7, AttributeType.FIX:2), (8, AttributeType.FIX:1)]', '[(0, AttributeType.SET_PLACEHOLDER:1), (3, AttributeType.FIX:1), (8, AttributeType.FIX:2)]'] 10\n",
      "[] 80\n"
     ]
    }
   ],
   "source": [
    "print(\"\\n\\n True model\")\n",
    "m_ture = Model(dataset)\n",
    "m_ture.set_pattern_set(list(map(pattern_to_patterns_objects,patterns)))\n",
    "length_model= m_ture.get_model_length()\n",
    "length_data = m_ture.cover.compute_data_length()\n",
    "print(length_model, '+',  length_data, '=',length_model+length_data)\n",
    "cs = m_ture.cover.get_cover_stats()\n",
    "for p,u in cs.get_pattern_usage().items():\n",
    "    print(p,u)\n"
   ]
  },
  {
   "cell_type": "code",
   "execution_count": null,
   "metadata": {},
   "outputs": [],
   "source": [
    "m_search = search.search(dataset_patterns)"
   ]
  },
  {
   "cell_type": "code",
   "execution_count": null,
   "metadata": {},
   "outputs": [],
   "source": [
    "length_model= m_search.get_model_length()\n",
    "length_data = m_search.cover.compute_data_length()\n",
    "print(length_model, '+',  length_data, '=',length_model+length_data)\n",
    "cs = m_search.cover.get_cover_stats()\n",
    "cs.get_pattern_usage()\n"
   ]
  },
  {
   "cell_type": "markdown",
   "metadata": {},
   "source": [
    "#### expression to watch while debugging \n",
    "    \n",
    "    set(best_candidate.pattern[0].pattern.keys()).issubset({0, 2, 4, 6, 7, 8})\n",
    "    set(best_candidate.pattern[0].pattern.keys()).issubset({0, 1, 2, 5, 6, 7})\n",
    "    set(best_candidate.pattern[0].pattern.keys()).issubset({2, 3, 4, 6, 8, 9})"
   ]
  },
  {
   "cell_type": "markdown",
   "metadata": {},
   "source": []
  }
 ],
 "metadata": {
  "kernelspec": {
   "display_name": "venv",
   "language": "python",
   "name": "python3"
  },
  "language_info": {
   "codemirror_mode": {
    "name": "ipython",
    "version": 3
   },
   "file_extension": ".py",
   "mimetype": "text/x-python",
   "name": "python",
   "nbconvert_exporter": "python",
   "pygments_lexer": "ipython3",
   "version": "3.10.8"
  }
 },
 "nbformat": 4,
 "nbformat_minor": 2
}
