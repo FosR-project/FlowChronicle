{
 "cells": [
  {
   "cell_type": "code",
   "execution_count": 3,
   "metadata": {},
   "outputs": [
    {
     "name": "stdout",
     "output_type": "stream",
     "text": [
      "The autoreload extension is already loaded. To reload it, use:\n",
      "  %reload_ext autoreload\n"
     ]
    }
   ],
   "source": [
    "%load_ext autoreload\n",
    "%autoreload 2\n",
    "\n",
    "import numpy as np\n",
    "import pandas as pd\n",
    "import collections\n",
    "\n",
    "import dataloader as dl\n",
    "from cover import Cover\n",
    "from baseline_slim_sqs import cast_to_pattern, mine\n",
    "from dataloader import Dataset"
   ]
  },
  {
   "cell_type": "code",
   "execution_count": 4,
   "metadata": {},
   "outputs": [
    {
     "name": "stderr",
     "output_type": "stream",
     "text": [
      "/Users/joscha/Documents/prj/FlowChronicle/cover.py:21: UserWarning: Using np.all to find next window - probably inefficient\n",
      "  warnings.warn(\"Using np.all to find next window - probably inefficient\")\n",
      "/Users/joscha/Documents/prj/FlowChronicle/cover.py:22: UserWarning: Window.score: Using simple number of fields covered as score\n",
      "  warnings.warn(\"Window.score: Using simple number of fields covered as score\")\n",
      "DEBUG:root:Starting window search\n",
      "DEBUG:root:Starting covering\n",
      "/Users/joscha/Documents/prj/FlowChronicle/pattern.py:49: UserWarning: Get next window not implemented, returning NO WINDOW\n",
      "  warnings.warn(\"Get next window not implemented, returning NO WINDOW\")\n",
      "DEBUG:root:Iteration 1000\n",
      "DEBUG:root:Iteration 2000\n",
      "DEBUG:root:Iteration 3000\n",
      "DEBUG:root:Iteration 4000\n",
      "DEBUG:root:Iteration 5000\n",
      "DEBUG:root:Iteration 6000\n",
      "DEBUG:root:Iteration 7000\n",
      "DEBUG:root:Iteration 8000\n",
      "DEBUG:root:Iteration 9000\n",
      "DEBUG:root:Finished covering\n"
     ]
    }
   ],
   "source": [
    "df = dl.load_socbed_bi()\n",
    "dataset = Dataset(df.copy())\n",
    "t_patterns = mine(df, True)\n",
    "\n",
    "t_patterns = list(map(lambda x: cast_to_pattern(list(x), dataset), t_patterns))\n",
    "t_patterns = list(filter(lambda x: x != None, t_patterns))\n",
    "# print(t_patterns)\n",
    "c = Cover(t_patterns, dataset)\n",
    "c.greedy_search() #call once implemented\n",
    "cover_map = c.get_cover_map()"
   ]
  },
  {
   "cell_type": "code",
   "execution_count": 5,
   "metadata": {},
   "outputs": [
    {
     "data": {
      "text/plain": [
       "Counter({['{0: AttributeType.FIX:1, 1: AttributeType.FIX:2, 2: AttributeType.FIX:5, 3: AttributeType.FIX:3, 4: AttributeType.FIX:5, 5: AttributeType.FIX:3, 6: AttributeType.FIX:0}']: 512,\n",
       "         ['{0: AttributeType.FIX:0, 1: AttributeType.FIX:1, 2: AttributeType.FIX:0, 3: AttributeType.FIX:0, 4: AttributeType.FIX:0, 5: AttributeType.FIX:0, 6: AttributeType.FIX:0}', '{0: AttributeType.FIX:0, 1: AttributeType.FIX:0, 2: AttributeType.FIX:0, 3: AttributeType.FIX:0, 4: AttributeType.FIX:0, 5: AttributeType.FIX:0, 6: AttributeType.FIX:0}']: 479,\n",
       "         ['{0: AttributeType.FIX:0, 1: AttributeType.FIX:2, 2: AttributeType.FIX:0, 3: AttributeType.FIX:0, 4: AttributeType.FIX:0, 5: AttributeType.FIX:0, 6: AttributeType.FIX:0}', '{0: AttributeType.FIX:0, 1: AttributeType.FIX:2, 2: AttributeType.FIX:0, 3: AttributeType.FIX:0, 4: AttributeType.FIX:0, 5: AttributeType.FIX:0, 6: AttributeType.FIX:0}', '{0: AttributeType.FIX:0, 1: AttributeType.FIX:2, 2: AttributeType.FIX:0, 3: AttributeType.FIX:0, 4: AttributeType.FIX:0, 5: AttributeType.FIX:0, 6: AttributeType.FIX:0}']: 211,\n",
       "         ['{0: AttributeType.FIX:0, 1: AttributeType.FIX:1, 3: AttributeType.FIX:1, 4: AttributeType.FIX:3, 5: AttributeType.FIX:0, 6: AttributeType.FIX:1}', '{0: AttributeType.FIX:0, 1: AttributeType.FIX:1, 3: AttributeType.FIX:1, 4: AttributeType.FIX:3, 5: AttributeType.FIX:0, 6: AttributeType.FIX:1}']: 58,\n",
       "         ['{0: AttributeType.FIX:0, 1: AttributeType.FIX:2, 3: AttributeType.FIX:2, 4: AttributeType.FIX:6, 5: AttributeType.FIX:2, 6: AttributeType.FIX:1}']: 53,\n",
       "         ['{0: AttributeType.FIX:0, 1: AttributeType.FIX:1, 3: AttributeType.FIX:2, 4: AttributeType.FIX:7, 5: AttributeType.FIX:2, 6: AttributeType.FIX:1}', '{0: AttributeType.FIX:0, 1: AttributeType.FIX:1, 3: AttributeType.FIX:2, 4: AttributeType.FIX:7, 5: AttributeType.FIX:4, 6: AttributeType.FIX:1}']: 30,\n",
       "         ['{0: AttributeType.FIX:0, 1: AttributeType.FIX:1, 3: AttributeType.FIX:1, 4: AttributeType.FIX:4, 5: AttributeType.FIX:1, 6: AttributeType.FIX:1}', '{0: AttributeType.FIX:0, 1: AttributeType.FIX:1, 3: AttributeType.FIX:1, 4: AttributeType.FIX:4, 5: AttributeType.FIX:1, 6: AttributeType.FIX:1}']: 29,\n",
       "         ['{0: AttributeType.FIX:0, 1: AttributeType.FIX:1, 2: AttributeType.FIX:0, 3: AttributeType.FIX:0, 4: AttributeType.FIX:0, 5: AttributeType.FIX:0, 6: AttributeType.FIX:0}', '{0: AttributeType.FIX:0, 1: AttributeType.FIX:0, 2: AttributeType.FIX:0, 3: AttributeType.FIX:0, 4: AttributeType.FIX:0, 5: AttributeType.FIX:0, 6: AttributeType.FIX:0}', '{0: AttributeType.FIX:1, 1: AttributeType.FIX:1, 2: AttributeType.FIX:5, 3: AttributeType.FIX:3, 4: AttributeType.FIX:5, 5: AttributeType.FIX:3, 6: AttributeType.FIX:0}', '{0: AttributeType.FIX:0, 1: AttributeType.FIX:1, 2: AttributeType.FIX:0, 3: AttributeType.FIX:0, 4: AttributeType.FIX:0, 5: AttributeType.FIX:0, 6: AttributeType.FIX:0}', '{0: AttributeType.FIX:0, 1: AttributeType.FIX:0, 2: AttributeType.FIX:0, 3: AttributeType.FIX:0, 4: AttributeType.FIX:0, 5: AttributeType.FIX:0, 6: AttributeType.FIX:0}', '{0: AttributeType.FIX:1, 1: AttributeType.FIX:1, 2: AttributeType.FIX:5, 3: AttributeType.FIX:3, 4: AttributeType.FIX:5, 5: AttributeType.FIX:3, 6: AttributeType.FIX:0}']: 23,\n",
       "         ['{0: AttributeType.FIX:0, 1: AttributeType.FIX:1, 2: AttributeType.FIX:0, 3: AttributeType.FIX:0, 4: AttributeType.FIX:0, 5: AttributeType.FIX:0, 6: AttributeType.FIX:0}', '{0: AttributeType.FIX:1, 1: AttributeType.FIX:1, 2: AttributeType.FIX:5, 3: AttributeType.FIX:3, 4: AttributeType.FIX:5, 5: AttributeType.FIX:3, 6: AttributeType.FIX:0}', '{0: AttributeType.FIX:0, 1: AttributeType.FIX:0, 2: AttributeType.FIX:0, 3: AttributeType.FIX:0, 4: AttributeType.FIX:0, 5: AttributeType.FIX:0, 6: AttributeType.FIX:0}', '{0: AttributeType.FIX:0, 1: AttributeType.FIX:1, 2: AttributeType.FIX:0, 3: AttributeType.FIX:0, 4: AttributeType.FIX:0, 5: AttributeType.FIX:0, 6: AttributeType.FIX:0}', '{0: AttributeType.FIX:1, 1: AttributeType.FIX:1, 2: AttributeType.FIX:5, 3: AttributeType.FIX:3, 4: AttributeType.FIX:5, 5: AttributeType.FIX:3, 6: AttributeType.FIX:0}', '{0: AttributeType.FIX:0, 1: AttributeType.FIX:0, 2: AttributeType.FIX:0, 3: AttributeType.FIX:0, 4: AttributeType.FIX:0, 5: AttributeType.FIX:0, 6: AttributeType.FIX:0}']: 21,\n",
       "         ['{0: AttributeType.FIX:0, 1: AttributeType.FIX:1, 2: AttributeType.FIX:2, 3: AttributeType.FIX:2, 4: AttributeType.FIX:2, 5: AttributeType.FIX:2, 6: AttributeType.FIX:1}', '{0: AttributeType.FIX:0, 1: AttributeType.FIX:1, 2: AttributeType.FIX:2, 3: AttributeType.FIX:2, 4: AttributeType.FIX:2, 5: AttributeType.FIX:2, 6: AttributeType.FIX:1}']: 19,\n",
       "         ['{0: AttributeType.FIX:0, 1: AttributeType.FIX:1, 3: AttributeType.FIX:2, 4: AttributeType.FIX:7, 5: AttributeType.FIX:4, 6: AttributeType.FIX:1}', '{0: AttributeType.FIX:0, 1: AttributeType.FIX:1, 3: AttributeType.FIX:2, 4: AttributeType.FIX:7, 5: AttributeType.FIX:2, 6: AttributeType.FIX:1}']: 17,\n",
       "         ['{0: AttributeType.FIX:0, 1: AttributeType.FIX:2, 3: AttributeType.FIX:2, 4: AttributeType.FIX:7, 5: AttributeType.FIX:2, 6: AttributeType.FIX:1}', '{0: AttributeType.FIX:1, 1: AttributeType.FIX:0, 2: AttributeType.FIX:5, 3: AttributeType.FIX:3, 4: AttributeType.FIX:5, 5: AttributeType.FIX:3, 6: AttributeType.FIX:0}']: 14,\n",
       "         ['{0: AttributeType.FIX:0, 1: AttributeType.FIX:2, 2: AttributeType.FIX:51, 3: AttributeType.FIX:2, 4: AttributeType.FIX:7, 5: AttributeType.FIX:0, 6: AttributeType.FIX:1}', '{0: AttributeType.FIX:0, 1: AttributeType.FIX:2, 2: AttributeType.FIX:51, 3: AttributeType.FIX:2, 4: AttributeType.FIX:7, 5: AttributeType.FIX:0, 6: AttributeType.FIX:1}']: 10,\n",
       "         ['{0: AttributeType.FIX:0, 1: AttributeType.FIX:0, 3: AttributeType.FIX:1, 4: AttributeType.FIX:3, 5: AttributeType.FIX:0, 6: AttributeType.FIX:1}', '{0: AttributeType.FIX:0, 1: AttributeType.FIX:1, 3: AttributeType.FIX:1, 4: AttributeType.FIX:3, 5: AttributeType.FIX:0, 6: AttributeType.FIX:1}']: 9,\n",
       "         ['{0: AttributeType.FIX:0, 1: AttributeType.FIX:0, 2: AttributeType.FIX:0, 3: AttributeType.FIX:0, 4: AttributeType.FIX:0, 5: AttributeType.FIX:0, 6: AttributeType.FIX:0}', '{0: AttributeType.FIX:0, 1: AttributeType.FIX:1, 2: AttributeType.FIX:0, 3: AttributeType.FIX:0, 4: AttributeType.FIX:0, 5: AttributeType.FIX:0, 6: AttributeType.FIX:0}', '{0: AttributeType.FIX:1, 1: AttributeType.FIX:1, 2: AttributeType.FIX:5, 3: AttributeType.FIX:3, 4: AttributeType.FIX:5, 5: AttributeType.FIX:3, 6: AttributeType.FIX:0}']: 8,\n",
       "         ['{0: AttributeType.FIX:1, 1: AttributeType.FIX:1, 2: AttributeType.FIX:5, 3: AttributeType.FIX:3, 4: AttributeType.FIX:3, 5: AttributeType.FIX:3, 6: AttributeType.FIX:0}', '{0: AttributeType.FIX:0, 1: AttributeType.FIX:1, 2: AttributeType.FIX:26, 3: AttributeType.FIX:1, 4: AttributeType.FIX:6, 5: AttributeType.FIX:0, 6: AttributeType.FIX:1}']: 8,\n",
       "         ['{0: AttributeType.FIX:1, 1: AttributeType.FIX:1, 2: AttributeType.FIX:5, 3: AttributeType.FIX:3, 4: AttributeType.FIX:3, 5: AttributeType.FIX:3, 6: AttributeType.FIX:0}', '{0: AttributeType.FIX:0, 1: AttributeType.FIX:2, 2: AttributeType.FIX:0, 3: AttributeType.FIX:0, 4: AttributeType.FIX:3, 5: AttributeType.FIX:0, 6: AttributeType.FIX:0}']: 7,\n",
       "         ['{0: AttributeType.FIX:1, 1: AttributeType.FIX:2, 2: AttributeType.FIX:5, 3: AttributeType.FIX:3, 4: AttributeType.FIX:3, 5: AttributeType.FIX:5, 6: AttributeType.FIX:0}', '{0: AttributeType.FIX:1, 1: AttributeType.FIX:2, 2: AttributeType.FIX:5, 3: AttributeType.FIX:3, 4: AttributeType.FIX:3, 5: AttributeType.FIX:5, 6: AttributeType.FIX:0}']: 6,\n",
       "         ['{0: AttributeType.FIX:0, 1: AttributeType.FIX:0, 3: AttributeType.FIX:1, 4: AttributeType.FIX:1, 5: AttributeType.FIX:6, 6: AttributeType.FIX:1}', '{0: AttributeType.FIX:0, 1: AttributeType.FIX:0, 3: AttributeType.FIX:2, 4: AttributeType.FIX:4, 5: AttributeType.FIX:2, 6: AttributeType.FIX:1}']: 6,\n",
       "         ['{0: AttributeType.FIX:1, 1: AttributeType.FIX:1, 2: AttributeType.FIX:5, 3: AttributeType.FIX:3, 4: AttributeType.FIX:3, 5: AttributeType.FIX:3, 6: AttributeType.FIX:0}', '{0: AttributeType.FIX:1, 1: AttributeType.FIX:0, 2: AttributeType.FIX:12, 3: AttributeType.FIX:3, 4: AttributeType.FIX:5, 5: AttributeType.FIX:3, 6: AttributeType.FIX:0}']: 6,\n",
       "         ['{0: AttributeType.FIX:1, 1: AttributeType.FIX:2, 2: AttributeType.FIX:12, 3: AttributeType.FIX:3, 4: AttributeType.FIX:5, 5: AttributeType.FIX:3, 6: AttributeType.FIX:0}', '{0: AttributeType.FIX:1, 1: AttributeType.FIX:1, 2: AttributeType.FIX:12, 3: AttributeType.FIX:3, 4: AttributeType.FIX:5, 5: AttributeType.FIX:5, 6: AttributeType.FIX:0}']: 5,\n",
       "         ['{0: AttributeType.FIX:1, 1: AttributeType.FIX:1, 2: AttributeType.FIX:5, 3: AttributeType.FIX:3, 4: AttributeType.FIX:5, 5: AttributeType.FIX:3, 6: AttributeType.FIX:0}', '{0: AttributeType.FIX:0, 1: AttributeType.FIX:1, 2: AttributeType.FIX:0, 3: AttributeType.FIX:0, 4: AttributeType.FIX:0, 5: AttributeType.FIX:0, 6: AttributeType.FIX:0}', '{0: AttributeType.FIX:0, 1: AttributeType.FIX:0, 2: AttributeType.FIX:0, 3: AttributeType.FIX:0, 4: AttributeType.FIX:0, 5: AttributeType.FIX:0, 6: AttributeType.FIX:0}', '{0: AttributeType.FIX:1, 1: AttributeType.FIX:1, 2: AttributeType.FIX:5, 3: AttributeType.FIX:3, 4: AttributeType.FIX:5, 5: AttributeType.FIX:3, 6: AttributeType.FIX:0}']: 5,\n",
       "         ['{0: AttributeType.FIX:1, 1: AttributeType.FIX:2, 2: AttributeType.FIX:5, 3: AttributeType.FIX:3, 4: AttributeType.FIX:5, 5: AttributeType.FIX:5, 6: AttributeType.FIX:0}', '{0: AttributeType.FIX:0, 1: AttributeType.FIX:1, 3: AttributeType.FIX:1, 4: AttributeType.FIX:1, 5: AttributeType.FIX:1, 6: AttributeType.FIX:1}', '{0: AttributeType.FIX:0, 1: AttributeType.FIX:1, 3: AttributeType.FIX:1, 4: AttributeType.FIX:1, 5: AttributeType.FIX:1, 6: AttributeType.FIX:1}']: 4,\n",
       "         ['{0: AttributeType.FIX:1, 1: AttributeType.FIX:0, 2: AttributeType.FIX:5, 3: AttributeType.FIX:3, 4: AttributeType.FIX:3, 5: AttributeType.FIX:3, 6: AttributeType.FIX:0}', '{0: AttributeType.FIX:1, 1: AttributeType.FIX:0, 2: AttributeType.FIX:5, 3: AttributeType.FIX:3, 4: AttributeType.FIX:3, 5: AttributeType.FIX:3, 6: AttributeType.FIX:0}']: 4,\n",
       "         ['{0: AttributeType.FIX:0, 1: AttributeType.FIX:2, 2: AttributeType.FIX:5, 3: AttributeType.FIX:6, 4: AttributeType.FIX:7, 5: AttributeType.FIX:2, 6: AttributeType.FIX:0}', '{0: AttributeType.FIX:0, 1: AttributeType.FIX:2, 2: AttributeType.FIX:5, 3: AttributeType.FIX:6, 4: AttributeType.FIX:7, 5: AttributeType.FIX:2, 6: AttributeType.FIX:0}']: 4,\n",
       "         ['{0: AttributeType.FIX:1, 1: AttributeType.FIX:1, 2: AttributeType.FIX:12, 3: AttributeType.FIX:3, 4: AttributeType.FIX:5, 5: AttributeType.FIX:3, 6: AttributeType.FIX:0}', '{0: AttributeType.FIX:0, 1: AttributeType.FIX:2, 2: AttributeType.FIX:97, 3: AttributeType.FIX:2, 4: AttributeType.FIX:6, 5: AttributeType.FIX:2, 6: AttributeType.FIX:1}']: 3,\n",
       "         ['{0: AttributeType.FIX:0, 1: AttributeType.FIX:2, 2: AttributeType.FIX:0, 3: AttributeType.FIX:0, 4: AttributeType.FIX:0, 5: AttributeType.FIX:0, 6: AttributeType.FIX:0}', '{0: AttributeType.FIX:0, 1: AttributeType.FIX:2, 2: AttributeType.FIX:0, 3: AttributeType.FIX:0, 4: AttributeType.FIX:0, 5: AttributeType.FIX:0, 6: AttributeType.FIX:0}']: 3,\n",
       "         ['{0: AttributeType.FIX:0, 1: AttributeType.FIX:1, 2: AttributeType.FIX:0, 3: AttributeType.FIX:0, 4: AttributeType.FIX:0, 5: AttributeType.FIX:0, 6: AttributeType.FIX:0}', '{0: AttributeType.FIX:1, 1: AttributeType.FIX:1, 2: AttributeType.FIX:5, 3: AttributeType.FIX:3, 4: AttributeType.FIX:5, 5: AttributeType.FIX:3, 6: AttributeType.FIX:0}', '{0: AttributeType.FIX:0, 1: AttributeType.FIX:0, 2: AttributeType.FIX:0, 3: AttributeType.FIX:0, 4: AttributeType.FIX:0, 5: AttributeType.FIX:0, 6: AttributeType.FIX:0}']: 2,\n",
       "         ['{0: AttributeType.FIX:1, 1: AttributeType.FIX:1, 3: AttributeType.FIX:2, 4: AttributeType.FIX:7, 5: AttributeType.FIX:2, 6: AttributeType.FIX:1}', '{0: AttributeType.FIX:0, 1: AttributeType.FIX:1, 3: AttributeType.FIX:1, 4: AttributeType.FIX:8, 5: AttributeType.FIX:6, 6: AttributeType.FIX:1}']: 2,\n",
       "         ['{0: AttributeType.FIX:0, 1: AttributeType.FIX:0, 2: AttributeType.FIX:0, 3: AttributeType.FIX:0, 4: AttributeType.FIX:0, 5: AttributeType.FIX:0, 6: AttributeType.FIX:0}', '{0: AttributeType.FIX:1, 1: AttributeType.FIX:1, 2: AttributeType.FIX:5, 3: AttributeType.FIX:3, 4: AttributeType.FIX:5, 5: AttributeType.FIX:3, 6: AttributeType.FIX:0}']: 2,\n",
       "         ['{0: AttributeType.FIX:0, 1: AttributeType.FIX:1, 2: AttributeType.FIX:0, 3: AttributeType.FIX:0, 4: AttributeType.FIX:0, 5: AttributeType.FIX:0, 6: AttributeType.FIX:0}', '{0: AttributeType.FIX:1, 1: AttributeType.FIX:1, 2: AttributeType.FIX:5, 3: AttributeType.FIX:3, 4: AttributeType.FIX:5, 5: AttributeType.FIX:3, 6: AttributeType.FIX:0}']: 2,\n",
       "         ['{0: AttributeType.FIX:0, 1: AttributeType.FIX:1, 2: AttributeType.FIX:9, 3: AttributeType.FIX:2, 4: AttributeType.FIX:4, 5: AttributeType.FIX:2, 6: AttributeType.FIX:1}', '{0: AttributeType.FIX:1, 1: AttributeType.FIX:2, 2: AttributeType.FIX:12, 3: AttributeType.FIX:3, 4: AttributeType.FIX:5, 5: AttributeType.FIX:3, 6: AttributeType.FIX:0}', '{0: AttributeType.FIX:1, 1: AttributeType.FIX:2, 2: AttributeType.FIX:12, 3: AttributeType.FIX:3, 4: AttributeType.FIX:5, 5: AttributeType.FIX:3, 6: AttributeType.FIX:0}', '{0: AttributeType.FIX:0, 1: AttributeType.FIX:0, 2: AttributeType.FIX:14, 3: AttributeType.FIX:2, 4: AttributeType.FIX:1, 5: AttributeType.FIX:7, 6: AttributeType.FIX:1}', '{0: AttributeType.FIX:0, 1: AttributeType.FIX:1, 3: AttributeType.FIX:1, 4: AttributeType.FIX:7, 5: AttributeType.FIX:1, 6: AttributeType.FIX:1}']: 1,\n",
       "         ['{0: AttributeType.FIX:1, 1: AttributeType.FIX:2, 3: AttributeType.FIX:2, 4: AttributeType.FIX:7, 5: AttributeType.FIX:2, 6: AttributeType.FIX:1}', '{0: AttributeType.FIX:0, 1: AttributeType.FIX:0, 3: AttributeType.FIX:2, 4: AttributeType.FIX:4, 5: AttributeType.FIX:2, 6: AttributeType.FIX:1}', '{0: AttributeType.FIX:0, 1: AttributeType.FIX:2, 2: AttributeType.FIX:53, 3: AttributeType.FIX:2, 4: AttributeType.FIX:7, 5: AttributeType.FIX:7, 6: AttributeType.FIX:1}', '{0: AttributeType.FIX:0, 1: AttributeType.FIX:2, 2: AttributeType.FIX:53, 3: AttributeType.FIX:2, 4: AttributeType.FIX:7, 5: AttributeType.FIX:7, 6: AttributeType.FIX:1}']: 1,\n",
       "         ['{0: AttributeType.FIX:1, 1: AttributeType.FIX:2, 2: AttributeType.FIX:5, 3: AttributeType.FIX:3, 4: AttributeType.FIX:3, 5: AttributeType.FIX:3, 6: AttributeType.FIX:0}', '{0: AttributeType.FIX:0, 1: AttributeType.FIX:1, 2: AttributeType.FIX:90, 3: AttributeType.FIX:2, 4: AttributeType.FIX:7, 5: AttributeType.FIX:2, 6: AttributeType.FIX:1}']: 1,\n",
       "         ['{0: AttributeType.FIX:0, 1: AttributeType.FIX:1, 2: AttributeType.FIX:3, 3: AttributeType.FIX:1, 4: AttributeType.FIX:3, 5: AttributeType.FIX:0, 6: AttributeType.FIX:1}', '{0: AttributeType.FIX:0, 1: AttributeType.FIX:2, 2: AttributeType.FIX:278, 3: AttributeType.FIX:1, 4: AttributeType.FIX:6, 5: AttributeType.FIX:0, 6: AttributeType.FIX:1}']: 1,\n",
       "         ['{0: AttributeType.FIX:0, 1: AttributeType.FIX:1, 2: AttributeType.FIX:3, 3: AttributeType.FIX:1, 4: AttributeType.FIX:3, 5: AttributeType.FIX:0, 6: AttributeType.FIX:1}', '{0: AttributeType.FIX:0, 1: AttributeType.FIX:2, 2: AttributeType.FIX:18, 3: AttributeType.FIX:1, 4: AttributeType.FIX:6, 5: AttributeType.FIX:0, 6: AttributeType.FIX:1}']: 1,\n",
       "         ['{0: AttributeType.FIX:0, 1: AttributeType.FIX:1, 2: AttributeType.FIX:0, 3: AttributeType.FIX:0, 4: AttributeType.FIX:0, 5: AttributeType.FIX:0, 6: AttributeType.FIX:0}', '{0: AttributeType.FIX:0, 1: AttributeType.FIX:2, 2: AttributeType.FIX:53, 3: AttributeType.FIX:2, 4: AttributeType.FIX:4, 5: AttributeType.FIX:1, 6: AttributeType.FIX:1}', '{0: AttributeType.FIX:1, 1: AttributeType.FIX:1, 2: AttributeType.FIX:5, 3: AttributeType.FIX:3, 4: AttributeType.FIX:5, 5: AttributeType.FIX:3, 6: AttributeType.FIX:0}']: 1,\n",
       "         ['{0: AttributeType.FIX:1, 1: AttributeType.FIX:2, 3: AttributeType.FIX:2, 4: AttributeType.FIX:7, 5: AttributeType.FIX:2, 6: AttributeType.FIX:1}', '{0: AttributeType.FIX:0, 1: AttributeType.FIX:0, 3: AttributeType.FIX:2, 4: AttributeType.FIX:4, 5: AttributeType.FIX:2, 6: AttributeType.FIX:1}']: 1})"
      ]
     },
     "execution_count": 5,
     "metadata": {},
     "output_type": "execute_result"
    }
   ],
   "source": [
    "cnt = collections.Counter(cover_map.ravel())\n",
    "used_patterns = [w.pattern for w in cnt.keys() if w != None]\n",
    "patterns_usage = collections.Counter(used_patterns)\n",
    "patterns_usage"
   ]
  }
 ],
 "metadata": {
  "kernelspec": {
   "display_name": "venv",
   "language": "python",
   "name": "python3"
  },
  "language_info": {
   "codemirror_mode": {
    "name": "ipython",
    "version": 3
   },
   "file_extension": ".py",
   "mimetype": "text/x-python",
   "name": "python",
   "nbconvert_exporter": "python",
   "pygments_lexer": "ipython3",
   "version": "3.10.8"
  },
  "orig_nbformat": 4
 },
 "nbformat": 4,
 "nbformat_minor": 2
}
