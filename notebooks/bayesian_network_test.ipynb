{
 "cells": [
  {
   "cell_type": "code",
   "execution_count": 1,
   "metadata": {},
   "outputs": [],
   "source": [
    "%load_ext autoreload\n",
    "%autoreload 2"
   ]
  },
  {
   "cell_type": "code",
   "execution_count": 2,
   "metadata": {},
   "outputs": [],
   "source": [
    "import numpy as np\n",
    "import pandas as pd\n",
    "import seaborn as sns"
   ]
  },
  {
   "cell_type": "code",
   "execution_count": 3,
   "metadata": {},
   "outputs": [],
   "source": [
    "import search\n",
    "from dataset import SyntheticDataset, Dataset\n",
    "from synthetic_data import generate_data, plant_patterns, pattern_to_patterns_objects\n",
    "from model import Model\n",
    "import random\n",
    "from pattern import EmptyPattern\n",
    "import bayesian_network"
   ]
  },
  {
   "cell_type": "code",
   "execution_count": 4,
   "metadata": {},
   "outputs": [],
   "source": [
    "RANDOM_SEED = 56\n",
    "random.seed(RANDOM_SEED)\n",
    "np.random.seed(RANDOM_SEED)\n",
    "\n",
    "N_ROWS = 500\n",
    "N_COLUMNS = 10\n",
    "POSSION_PARAMETERS = 2,3 # lambda, shift\n",
    "df_random = generate_data(N_ROWS, N_COLUMNS, POSSION_PARAMETERS)\n",
    "df_patterns,patterns  = plant_patterns(df_random.copy(), 3, 6, 250)\n",
    "\n",
    "dataset_random = SyntheticDataset(df_random.copy())\n",
    "dataset_patterns = SyntheticDataset(df_patterns.copy())\n"
   ]
  },
  {
   "cell_type": "code",
   "execution_count": 5,
   "metadata": {},
   "outputs": [
    {
     "data": {
      "text/plain": [
       "11325.524407634239"
      ]
     },
     "execution_count": 5,
     "metadata": {},
     "output_type": "execute_result"
    }
   ],
   "source": [
    "empty_windows = EmptyPattern().find_windows(dataset_patterns)\n",
    "bn = bayesian_network.BayesianNetwork(max_indegree=0)\n",
    "bn.learn(dataset_patterns, empty_windows)\n",
    "bn.get_data_cost()"
   ]
  },
  {
   "cell_type": "code",
   "execution_count": 6,
   "metadata": {},
   "outputs": [
    {
     "data": {
      "text/plain": [
       "9907.722712320383"
      ]
     },
     "execution_count": 6,
     "metadata": {},
     "output_type": "execute_result"
    }
   ],
   "source": [
    "empty_windows = EmptyPattern().find_windows(dataset_patterns)\n",
    "bn = bayesian_network.BayesianNetwork(max_indegree=3)\n",
    "bn.learn(dataset_patterns, empty_windows)\n",
    "bn.get_data_cost()"
   ]
  },
  {
   "cell_type": "code",
   "execution_count": 7,
   "metadata": {},
   "outputs": [],
   "source": [
    "# bn.show_model()"
   ]
  },
  {
   "cell_type": "code",
   "execution_count": 8,
   "metadata": {},
   "outputs": [
    {
     "data": {
      "text/plain": [
       "11309.65035211036"
      ]
     },
     "execution_count": 8,
     "metadata": {},
     "output_type": "execute_result"
    }
   ],
   "source": [
    "empty_windows = EmptyPattern().find_windows(dataset_random)\n",
    "bn = bayesian_network.BayesianNetwork()\n",
    "bn.learn(dataset_random, empty_windows)\n",
    "bn.get_data_cost()"
   ]
  },
  {
   "cell_type": "code",
   "execution_count": 9,
   "metadata": {},
   "outputs": [],
   "source": [
    "# bn.show_model()"
   ]
  }
 ],
 "metadata": {
  "kernelspec": {
   "display_name": "venv",
   "language": "python",
   "name": "python3"
  },
  "language_info": {
   "codemirror_mode": {
    "name": "ipython",
    "version": 3
   },
   "file_extension": ".py",
   "mimetype": "text/x-python",
   "name": "python",
   "nbconvert_exporter": "python",
   "pygments_lexer": "ipython3",
   "version": "3.10.8"
  }
 },
 "nbformat": 4,
 "nbformat_minor": 2
}
