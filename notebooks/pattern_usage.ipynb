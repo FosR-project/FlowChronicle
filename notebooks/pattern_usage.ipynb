{
 "cells": [
  {
   "cell_type": "code",
   "execution_count": null,
   "metadata": {},
   "outputs": [],
   "source": [
    "%load_ext autoreload\n",
    "%autoreload 2"
   ]
  },
  {
   "cell_type": "code",
   "execution_count": null,
   "metadata": {},
   "outputs": [],
   "source": [
    "import sys\n",
    "sys.path.append(\"..\")\n",
    "import dataloader as dl\n",
    "import numpy as np\n",
    "import pandas as pd\n",
    "\n",
    "from dataloader import Dataset\n",
    "from baseline_slim_sqs import cast_to_pattern, mine\n",
    "import bayesian_network\n",
    "from pattern import Pattern, EmptyPattern\n",
    "from cover import Cover\n",
    "import collections\n",
    "import bidict"
   ]
  },
  {
   "cell_type": "code",
   "execution_count": null,
   "metadata": {},
   "outputs": [],
   "source": [
    "df = dl.load_socbed_bi()\n",
    "dataset = Dataset(df.copy())\n",
    "t_patterns = mine(df, True)\n",
    "\n",
    "t_patterns = list(map(lambda x: cast_to_pattern(list(x), dataset), t_patterns))\n",
    "t_patterns = list(filter(lambda x: x != None, t_patterns))\n",
    "\n",
    "\n",
    "# print(t_patterns)\n",
    "base_bn = bayesian_network.BayesianNetwork()\n",
    "all_empty_windows = EmptyPattern().find_windows(dataset)\n",
    "base_bn.learn(dataset, all_empty_windows)\n",
    "c = Cover(t_patterns, base_bn, dataset)\n",
    "c.greedy_search() #call once implemented\n",
    "cover_map = c.get_cover_map()\n",
    "c.fit_bayesian_networks(t_patterns)\n"
   ]
  },
  {
   "cell_type": "code",
   "execution_count": 2,
   "metadata": {},
   "outputs": [],
   "source": [
    "import sys\n",
    "sys.path.append('..')\n",
    "import numpy as np\n",
    "import pandas as pd\n",
    "import model\n",
    "import pickle\n",
    "import collections\n",
    "import bidict\n",
    "from pattern import Pattern, EmptyPattern\n",
    "model_path = '/home/aschoen/my_storage/aschoen/models/joschua_model/CIDDS_xp4-our.pkl'\n",
    "m = pickle.load(open(model_path,'rb'))\n",
    "c = m.cover"
   ]
  },
  {
   "cell_type": "code",
   "execution_count": 3,
   "metadata": {},
   "outputs": [],
   "source": [
    "cnt = collections.Counter(c.get_cover_map().ravel()) # np.unique does not work\n",
    "used_windows = cnt.keys()"
   ]
  },
  {
   "cell_type": "code",
   "execution_count": 4,
   "metadata": {},
   "outputs": [],
   "source": [
    "wind_ids = bidict.bidict(enumerate(used_windows))\n",
    "pattern_ids = bidict.bidict(enumerate(c.pattern_set))"
   ]
  },
  {
   "cell_type": "code",
   "execution_count": 5,
   "metadata": {},
   "outputs": [],
   "source": [
    "usage_dict = {}\n",
    "stats = c.get_cover_stats()\n",
    "usage = stats.get_pattern_usage()\n",
    "for pattern, u in usage.items():\n",
    "    if not isinstance(pattern, EmptyPattern):\n",
    "        usage_dict[pattern_ids.inverse[pattern]] = u"
   ]
  },
  {
   "cell_type": "code",
   "execution_count": null,
   "metadata": {},
   "outputs": [],
   "source": [
    "pattern_file = open(\"notebooks/data/patterns_with_ids_xp2.txt\", \"w+\")\n",
    "\n",
    "for i, pattern in pattern_ids.items():\n",
    "    try:\n",
    "        u = usage_dict[i]\n",
    "    except KeyError:\n",
    "        u = 0\n",
    "    pattern_file.write(f\"+++++ Pattern {i} - Usage {u}  +++++\\n\")\n",
    "    pattern_file.write(pattern.get_real_value_repr(dataset))\n",
    "    pattern_file.write(\"\\n\\n\")\n",
    "\n",
    "pattern_file.close()\n"
   ]
  },
  {
   "cell_type": "code",
   "execution_count": 6,
   "metadata": {},
   "outputs": [],
   "source": [
    "#replace windows in cover_map with their index\n",
    "cover_map_ids = np.vectorize(lambda x: wind_ids.inverse[x])(c.get_cover_map())\n",
    "max_ids = np.max(cover_map_ids, axis=1)\n",
    "used_pattern = np.vectorize(lambda x: wind_ids[x].pattern if wind_ids[x] != None else None)(max_ids)\n",
    "used_pattern = np.vectorize(lambda x: pattern_ids.inverse[x] if x != None else -1)(used_pattern)"
   ]
  },
  {
   "cell_type": "code",
   "execution_count": 7,
   "metadata": {},
   "outputs": [],
   "source": [
    "df = pd.read_csv(\"/home/aschoen/my_storage/aschoen/dataset/flow_chronicle_dataset/xp5/CIDDS_xp5_train.csv\")\n",
    "df[\"Date first seen\"] = pd.to_datetime(df[\"Date first seen\"])\n",
    "df = df[df[\"Date first seen\"].dt.dayofweek.isin([1,5])]\n",
    "df[\"pattern_instance\"] = max_ids\n",
    "df[\"pattern\"] = used_pattern"
   ]
  },
  {
   "cell_type": "code",
   "execution_count": 8,
   "metadata": {},
   "outputs": [
    {
     "data": {
      "text/html": [
       "<div>\n",
       "<style scoped>\n",
       "    .dataframe tbody tr th:only-of-type {\n",
       "        vertical-align: middle;\n",
       "    }\n",
       "\n",
       "    .dataframe tbody tr th {\n",
       "        vertical-align: top;\n",
       "    }\n",
       "\n",
       "    .dataframe thead th {\n",
       "        text-align: right;\n",
       "    }\n",
       "</style>\n",
       "<table border=\"1\" class=\"dataframe\">\n",
       "  <thead>\n",
       "    <tr style=\"text-align: right;\">\n",
       "      <th></th>\n",
       "      <th>Date first seen</th>\n",
       "      <th>Proto</th>\n",
       "      <th>Src IP Addr</th>\n",
       "      <th>Dst IP Addr</th>\n",
       "      <th>Dst Pt</th>\n",
       "      <th>In Byte</th>\n",
       "      <th>Out Byte</th>\n",
       "      <th>pattern_instance</th>\n",
       "      <th>pattern</th>\n",
       "    </tr>\n",
       "  </thead>\n",
       "  <tbody>\n",
       "    <tr>\n",
       "      <th>629878</th>\n",
       "      <td>2017-04-08 00:00:04.897</td>\n",
       "      <td>UDP</td>\n",
       "      <td>192.168.200.8</td>\n",
       "      <td>DNS</td>\n",
       "      <td>53.0</td>\n",
       "      <td>91.0</td>\n",
       "      <td>75.0</td>\n",
       "      <td>1</td>\n",
       "      <td>-1</td>\n",
       "    </tr>\n",
       "    <tr>\n",
       "      <th>629879</th>\n",
       "      <td>2017-04-08 00:00:05.305</td>\n",
       "      <td>UDP</td>\n",
       "      <td>192.168.100.4</td>\n",
       "      <td>DNS</td>\n",
       "      <td>53.0</td>\n",
       "      <td>131.0</td>\n",
       "      <td>74.0</td>\n",
       "      <td>1</td>\n",
       "      <td>-1</td>\n",
       "    </tr>\n",
       "    <tr>\n",
       "      <th>629880</th>\n",
       "      <td>2017-04-08 00:00:05.307</td>\n",
       "      <td>UDP</td>\n",
       "      <td>192.168.100.4</td>\n",
       "      <td>DNS</td>\n",
       "      <td>53.0</td>\n",
       "      <td>90.0</td>\n",
       "      <td>74.0</td>\n",
       "      <td>1</td>\n",
       "      <td>-1</td>\n",
       "    </tr>\n",
       "    <tr>\n",
       "      <th>629881</th>\n",
       "      <td>2017-04-08 00:00:05.429</td>\n",
       "      <td>UDP</td>\n",
       "      <td>192.168.100.4</td>\n",
       "      <td>DNS</td>\n",
       "      <td>53.0</td>\n",
       "      <td>131.0</td>\n",
       "      <td>74.0</td>\n",
       "      <td>1</td>\n",
       "      <td>-1</td>\n",
       "    </tr>\n",
       "    <tr>\n",
       "      <th>629882</th>\n",
       "      <td>2017-04-08 00:00:11.698</td>\n",
       "      <td>UDP</td>\n",
       "      <td>192.168.210.5</td>\n",
       "      <td>10031_250</td>\n",
       "      <td>1900.0</td>\n",
       "      <td>0.0</td>\n",
       "      <td>0.0</td>\n",
       "      <td>2</td>\n",
       "      <td>6</td>\n",
       "    </tr>\n",
       "    <tr>\n",
       "      <th>...</th>\n",
       "      <td>...</td>\n",
       "      <td>...</td>\n",
       "      <td>...</td>\n",
       "      <td>...</td>\n",
       "      <td>...</td>\n",
       "      <td>...</td>\n",
       "      <td>...</td>\n",
       "      <td>...</td>\n",
       "      <td>...</td>\n",
       "    </tr>\n",
       "    <tr>\n",
       "      <th>1089917</th>\n",
       "      <td>2017-04-11 23:59:27.532</td>\n",
       "      <td>TCP</td>\n",
       "      <td>192.168.200.8</td>\n",
       "      <td>EXT_SERVER</td>\n",
       "      <td>8000.0</td>\n",
       "      <td>800.0</td>\n",
       "      <td>646.0</td>\n",
       "      <td>144128</td>\n",
       "      <td>1338</td>\n",
       "    </tr>\n",
       "    <tr>\n",
       "      <th>1089918</th>\n",
       "      <td>2017-04-11 23:59:27.800</td>\n",
       "      <td>TCP</td>\n",
       "      <td>192.168.200.8</td>\n",
       "      <td>EXT_SERVER</td>\n",
       "      <td>8000.0</td>\n",
       "      <td>737.0</td>\n",
       "      <td>674.0</td>\n",
       "      <td>144129</td>\n",
       "      <td>1339</td>\n",
       "    </tr>\n",
       "    <tr>\n",
       "      <th>1089919</th>\n",
       "      <td>2017-04-11 23:59:30.112</td>\n",
       "      <td>UDP</td>\n",
       "      <td>192.168.200.8</td>\n",
       "      <td>10031_250</td>\n",
       "      <td>1900.0</td>\n",
       "      <td>0.0</td>\n",
       "      <td>0.0</td>\n",
       "      <td>144130</td>\n",
       "      <td>1325</td>\n",
       "    </tr>\n",
       "    <tr>\n",
       "      <th>1089920</th>\n",
       "      <td>2017-04-11 23:59:34.120</td>\n",
       "      <td>UDP</td>\n",
       "      <td>192.168.220.8</td>\n",
       "      <td>192.168.220.255</td>\n",
       "      <td>138.0</td>\n",
       "      <td>0.0</td>\n",
       "      <td>0.0</td>\n",
       "      <td>144131</td>\n",
       "      <td>1333</td>\n",
       "    </tr>\n",
       "    <tr>\n",
       "      <th>1089921</th>\n",
       "      <td>2017-04-11 23:59:50.196</td>\n",
       "      <td>UDP</td>\n",
       "      <td>192.168.210.4</td>\n",
       "      <td>10031_250</td>\n",
       "      <td>1900.0</td>\n",
       "      <td>0.0</td>\n",
       "      <td>0.0</td>\n",
       "      <td>144132</td>\n",
       "      <td>1325</td>\n",
       "    </tr>\n",
       "  </tbody>\n",
       "</table>\n",
       "<p>240950 rows × 9 columns</p>\n",
       "</div>"
      ],
      "text/plain": [
       "                Date first seen  Proto    Src IP Addr      Dst IP Addr  \\\n",
       "629878  2017-04-08 00:00:04.897  UDP    192.168.200.8              DNS   \n",
       "629879  2017-04-08 00:00:05.305  UDP    192.168.100.4              DNS   \n",
       "629880  2017-04-08 00:00:05.307  UDP    192.168.100.4              DNS   \n",
       "629881  2017-04-08 00:00:05.429  UDP    192.168.100.4              DNS   \n",
       "629882  2017-04-08 00:00:11.698  UDP    192.168.210.5        10031_250   \n",
       "...                         ...    ...            ...              ...   \n",
       "1089917 2017-04-11 23:59:27.532  TCP    192.168.200.8       EXT_SERVER   \n",
       "1089918 2017-04-11 23:59:27.800  TCP    192.168.200.8       EXT_SERVER   \n",
       "1089919 2017-04-11 23:59:30.112  UDP    192.168.200.8        10031_250   \n",
       "1089920 2017-04-11 23:59:34.120  UDP    192.168.220.8  192.168.220.255   \n",
       "1089921 2017-04-11 23:59:50.196  UDP    192.168.210.4        10031_250   \n",
       "\n",
       "         Dst Pt  In Byte  Out Byte  pattern_instance  pattern  \n",
       "629878     53.0     91.0      75.0                 1       -1  \n",
       "629879     53.0    131.0      74.0                 1       -1  \n",
       "629880     53.0     90.0      74.0                 1       -1  \n",
       "629881     53.0    131.0      74.0                 1       -1  \n",
       "629882   1900.0      0.0       0.0                 2        6  \n",
       "...         ...      ...       ...               ...      ...  \n",
       "1089917  8000.0    800.0     646.0            144128     1338  \n",
       "1089918  8000.0    737.0     674.0            144129     1339  \n",
       "1089919  1900.0      0.0       0.0            144130     1325  \n",
       "1089920   138.0      0.0       0.0            144131     1333  \n",
       "1089921  1900.0      0.0       0.0            144132     1325  \n",
       "\n",
       "[240950 rows x 9 columns]"
      ]
     },
     "execution_count": 8,
     "metadata": {},
     "output_type": "execute_result"
    }
   ],
   "source": [
    "df"
   ]
  },
  {
   "cell_type": "code",
   "execution_count": null,
   "metadata": {},
   "outputs": [],
   "source": [
    "df.to_csv(\"notebooks/data/cover_map_xp2.csv\", index=False)"
   ]
  },
  {
   "cell_type": "code",
   "execution_count": null,
   "metadata": {},
   "outputs": [],
   "source": [
    "pattern = 291\n",
    "def highlight_sentiment(row):\n",
    "    if row[\"pattern\"] == pattern:\n",
    "        return ['background-color: red'] * len(row)\n",
    "    else:\n",
    "        return ['background-color: black'] * len(row)\n",
    "\n",
    "df.iloc[:5000].style.apply(highlight_sentiment, axis=1)"
   ]
  },
  {
   "cell_type": "code",
   "execution_count": null,
   "metadata": {},
   "outputs": [],
   "source": [
    "df.iloc[:5000,-1].value_counts()"
   ]
  },
  {
   "cell_type": "code",
   "execution_count": null,
   "metadata": {},
   "outputs": [],
   "source": [
    "df[df[\"pattern_instance\"] == 291]"
   ]
  },
  {
   "cell_type": "code",
   "execution_count": null,
   "metadata": {},
   "outputs": [],
   "source": [
    "u[\"Date first seen\"] = pd.to_datetime(u[\"Date first seen\"])"
   ]
  },
  {
   "cell_type": "code",
   "execution_count": null,
   "metadata": {},
   "outputs": [],
   "source": [
    "usage_dict[291]"
   ]
  },
  {
   "cell_type": "code",
   "execution_count": 11,
   "metadata": {},
   "outputs": [
    {
     "data": {
      "text/plain": [
       "Date first seen     2017-04-08 01:20:20.839000\n",
       "Proto                                    UDP  \n",
       "Src IP Addr                      192.168.210.5\n",
       "Dst IP Addr                          10031_250\n",
       "Dst Pt                                  1900.0\n",
       "In Byte                                    0.0\n",
       "Out Byte                                   0.0\n",
       "pattern_instance                           632\n",
       "pattern                                      6\n",
       "Name: 631013, dtype: object"
      ]
     },
     "execution_count": 11,
     "metadata": {},
     "output_type": "execute_result"
    }
   ],
   "source": [
    "df.iloc[1135,:]"
   ]
  },
  {
   "cell_type": "code",
   "execution_count": null,
   "metadata": {},
   "outputs": [],
   "source": []
  }
 ],
 "metadata": {
  "kernelspec": {
   "display_name": "Python 3 (ipykernel)",
   "language": "python",
   "name": "python3"
  },
  "language_info": {
   "codemirror_mode": {
    "name": "ipython",
    "version": 3
   },
   "file_extension": ".py",
   "mimetype": "text/x-python",
   "name": "python",
   "nbconvert_exporter": "python",
   "pygments_lexer": "ipython3",
   "version": "3.9.2"
  }
 },
 "nbformat": 4,
 "nbformat_minor": 4
}
